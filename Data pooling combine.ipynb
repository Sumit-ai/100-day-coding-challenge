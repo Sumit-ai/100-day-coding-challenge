{
 "cells": [
  {
   "cell_type": "markdown",
   "metadata": {},
   "source": [
    "# step1: read the main file"
   ]
  },
  {
   "cell_type": "code",
   "execution_count": 36,
   "metadata": {},
   "outputs": [],
   "source": [
    "import pandas as pd \n",
    "import numpy as np \n",
    "#mainfile = pd.read_csv('')\n",
    "# currently we are in \"\"/Users/sumitpandey/Downloads/Corr Files/New Folder With Items \"\"\n"
   ]
  },
  {
   "cell_type": "markdown",
   "metadata": {},
   "source": [
    "# Step 2: part 1: read the good and bad file from their respective folders "
   ]
  },
  {
   "cell_type": "code",
   "execution_count": null,
   "metadata": {},
   "outputs": [],
   "source": []
  },
  {
   "cell_type": "code",
   "execution_count": 41,
   "metadata": {},
   "outputs": [],
   "source": [
    "\n",
    "# go to the folder \n",
    "#cd New Folder With Items\n"
   ]
  },
  {
   "cell_type": "code",
   "execution_count": 42,
   "metadata": {},
   "outputs": [
    {
     "name": "stdout",
     "output_type": "stream",
     "text": [
      "file names:  ['For MLEGP_1_3-4ST_ROTOR MLEGP_1_1-2ST_ROTORGood Data File.csv', 'For MLEGP_1_1-2ST_ROTOR MLEGP_1_B411_ROTORGood Data File.csv', 'For MLEGP_1A_TI_4134_1.PV MLEGP_1A_TI_4134_2.PVGood Data File.csv', 'For MLEGP_1_TE_4120_4 MLEGP_1_TE_4120_2Good Data File.csv', 'For MLEGP_1A_TI_4134_3.PV MLEGP_1_TE_4120_2Good Data File.csv', 'For MLEGP_1A_TI_4135_2.PV MLEGP_1_TE_4122_5Good Data File.csv', 'For MLEGP_1_TE_4120_4 MLEGP_1A_TI_4134_3.PVGood Data File.csv', 'For MLEGP_1A_TI_4134_2.PV MLEGP_1A_TI_4134_3.PVGood Data File.csv', 'For MLEGP_1_TE_4120_4 MLEGP_1_TE_4120_3Good Data File.csv', 'For MLEGP_1_TE_4120_3 MLEGP_1A_TI_4134_2.PVGood Data File.csv', 'For MLEGP_1_TE_4120_2 MLEGP_1A_TI_4134_2.PVGood Data File.csv', 'For MLEGP_1A_TI_4134_3.PV MLEGP_1A_TI_4134_2.PVGood Data File.csv', 'For MLEGP_1_B411_ROTOR MLEGP_1_1-2ST_ROTORGood Data File.csv', 'For MLEGP_1_TE_4120_2 MLEGP_1_TE_4120_4Good Data File.csv', 'For MLEGP_1A_TI_4134_3.PV MLEGP_1_TE_4120_3Good Data File.csv', 'For MLEGP_1A_TI_4134_1.PV MLEGP_1A_TI_4134_3.PVGood Data File.csv', 'For MLEGP_1_B411_ROTOR MLEGP_1_3-4ST_ROTORGood Data File.csv', 'For MLEGP_1_TE_4120_2 MLEGP_1A_TI_4134_3.PVGood Data File.csv', 'For MLEGP_1_TE_4120_2 MLEGP_1_TE_4120_3Good Data File.csv', 'For MLEGP_1A_TI_4134_3.PV MLEGP_1_TE_4120_4Good Data File.csv', 'For MLEGP_1_TE_4120_4 MLEGP_1A_TI_4134_2.PVGood Data File.csv', 'For MLEGP_1_TE_4120_3 MLEGP_1A_TI_4134_3.PVGood Data File.csv', 'For MLEGP_1A_TI_4134_1.PV MLEGP_1_TE_4120_4Good Data File.csv', 'For MLEGP_1A_TI_4134_2.PV MLEGP_1A_TI_4134_1.PVGood Data File.csv', 'For MLEGP_1_TE_4120_4 MLEGP_1A_TI_4134_1.PVGood Data File.csv', 'For MLEGP_1_TE_4122_5 MLEGP_1A_TI_4135_2.PVGood Data File.csv', 'For MLEGP_1A_TI_4134_2.PV MLEGP_1_TE_4120_4Good Data File.csv', 'For MLEGP_1_TE_4120_3 MLEGP_1_TE_4120_4Good Data File.csv', 'For MLEGP_1_TE_4120_3 MLEGP_1_TE_4120_2Good Data File.csv', 'For MLEGP_1_TE_4120_2 MLEGP_1A_TI_4134_1.PVGood Data File.csv', 'For MLEGP_1A_TI_4134_3.PV MLEGP_1A_TI_4134_1.PVGood Data File.csv', 'For MLEGP_1_3-4ST_ROTOR MLEGP_1_B411_ROTORGood Data File.csv', 'For MLEGP_1A_TI_4134_2.PV MLEGP_1_TE_4120_3Good Data File.csv', 'For MLEGP_1A_TI_4134_1.PV MLEGP_1_TE_4120_3Good Data File.csv', 'For MLEGP_1_TE_4120_3 MLEGP_1A_TI_4134_1.PVGood Data File.csv', 'For MLEGP_1_1-2ST_ROTOR MLEGP_1_3-4ST_ROTORGood Data File.csv', 'For MLEGP_1A_TI_4134_2.PV MLEGP_1_TE_4120_2Good Data File.csv', 'For MLEGP_1A_TI_4134_1.PV MLEGP_1_TE_4120_2Good Data File.csv']\n",
      "----------------------------------------------\n",
      "Total number of files:  38\n"
     ]
    }
   ],
   "source": [
    "\n",
    "# now read all the files \n",
    "import os\n",
    "arr = os.listdir()\n",
    "print('file names: ', arr)\n",
    "print('----------------------------------------------')\n",
    "print('Total number of files: ', len(arr))\n"
   ]
  },
  {
   "cell_type": "code",
   "execution_count": 47,
   "metadata": {},
   "outputs": [
    {
     "name": "stdout",
     "output_type": "stream",
     "text": [
      "                     MLEGP_1A_TI_4134_3.PV\n",
      "TagName                                   \n",
      "2017-10-12 00:00:00              79.518097\n",
      "2017-10-12 00:05:00              79.578209\n",
      "2017-10-12 00:10:00              79.689011\n",
      "2017-10-12 00:15:00              79.628372\n",
      "2017-10-12 00:20:00              79.487915\n"
     ]
    }
   ],
   "source": [
    "df = pd.read_csv(arr[11], index_col = 'TagName')\n",
    "if len(df)>4:\n",
    "    print(df.head())\n",
    "    #df = df.set_index('TagName')"
   ]
  },
  {
   "cell_type": "markdown",
   "metadata": {},
   "source": [
    "# part 2: key in the good values  in the main copy file: fill the bad data with 0 "
   ]
  },
  {
   "cell_type": "code",
   "execution_count": null,
   "metadata": {},
   "outputs": [],
   "source": []
  },
  {
   "cell_type": "code",
   "execution_count": null,
   "metadata": {},
   "outputs": [],
   "source": []
  },
  {
   "cell_type": "markdown",
   "metadata": {},
   "source": [
    "# Part 3: combine the data "
   ]
  },
  {
   "cell_type": "code",
   "execution_count": null,
   "metadata": {},
   "outputs": [],
   "source": []
  }
 ],
 "metadata": {
  "kernelspec": {
   "display_name": "Python 3",
   "language": "python",
   "name": "python3"
  },
  "language_info": {
   "codemirror_mode": {
    "name": "ipython",
    "version": 3
   },
   "file_extension": ".py",
   "mimetype": "text/x-python",
   "name": "python",
   "nbconvert_exporter": "python",
   "pygments_lexer": "ipython3",
   "version": "3.7.3"
  }
 },
 "nbformat": 4,
 "nbformat_minor": 2
}
